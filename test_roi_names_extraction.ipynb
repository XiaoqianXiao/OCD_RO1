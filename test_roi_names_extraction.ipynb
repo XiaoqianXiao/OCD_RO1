{
  "cells": [
    {
      "cell_type": "markdown",
      "metadata": {},
      "source": [
        "# ROI Names Extraction Test\n",
        "\n",
        "This notebook demonstrates how ROI names are extracted from different atlas files in `NW_1st.py`.\n",
        "\n",
        "## Purpose\n",
        "- Test ROI name extraction from Power 2011 atlas\n",
        "- Test ROI name extraction from Schaefer 2018 atlas\n",
        "- Verify the ROI names are meaningful and correct\n",
        "- Compare with the original generic naming scheme\n"
      ]
    },
    {
      "cell_type": "markdown",
      "metadata": {},
      "source": []
    },
    {
      "cell_type": "code",
      "execution_count": 1,
      "metadata": {},
      "outputs": [
        {
          "name": "stdout",
          "output_type": "stream",
          "text": [
            "✅ Libraries imported successfully\n"
          ]
        }
      ],
      "source": [
        "import os\n",
        "import numpy as np\n",
        "import pandas as pd\n",
        "import json\n",
        "from pathlib import Path\n",
        "import matplotlib.pyplot as plt\n",
        "import seaborn as sns\n",
        "\n",
        "# Set up logging\n",
        "import logging\n",
        "logging.basicConfig(level=logging.INFO)\n",
        "logger = logging.getLogger(__name__)\n",
        "\n",
        "print(\"✅ Libraries imported successfully\")\n"
      ]
    },
    {
      "cell_type": "markdown",
      "metadata": {},
      "source": [
        "## 1. Test Power 2011 Atlas ROI Names\n",
        "\n",
        "Power 2011 atlas uses a local file with network labels.\n"
      ]
    },
    {
      "cell_type": "code",
      "execution_count": 4,
      "metadata": {},
      "outputs": [
        {
          "name": "stdout",
          "output_type": "stream",
          "text": [
            "🔍 Testing Power 2011 Atlas ROI Names\n",
            "==================================================\n",
            "✅ Loaded 264 ROI labels from Power 2011\n",
            "📁 File: roi/power264/power264NodeNames.txt\n",
            "\n",
            "📋 First 10 ROI labels:\n",
            "    1: Visual_1\n",
            "    2: Visual_2\n",
            "    3: Visual_3\n",
            "    4: Visual_4\n",
            "    5: Visual_5\n",
            "    6: Visual_6\n",
            "    7: Visual_7\n",
            "    8: Visual_8\n",
            "    9: Visual_9\n",
            "   10: Visual_10\n",
            "\n",
            "📋 Last 10 ROI labels:\n",
            "  255: Salience_255\n",
            "  256: Salience_256\n",
            "  257: Salience_257\n",
            "  258: Salience_258\n",
            "  259: Salience_259\n",
            "  260: Salience_260\n",
            "  261: Salience_261\n",
            "  262: Salience_262\n",
            "  263: Salience_263\n",
            "  264: Salience_264\n",
            "\n",
            "📊 Network distribution:\n",
            "  Auditory       :  20 ROIs\n",
            "  Cerebellar     :  20 ROIs\n",
            "  CinguloOpercular:  20 ROIs\n",
            "  Default        :  20 ROIs\n",
            "  DorsalAttention:  20 ROIs\n",
            "  Frontoparietal :  20 ROIs\n",
            "  Limbic         :  20 ROIs\n",
            "  Memory         :  20 ROIs\n",
            "  Salience       :  20 ROIs\n",
            "  Somatomotor    :  20 ROIs\n",
            "  Subcortical    :  20 ROIs\n",
            "  Uncertain      :   4 ROIs\n",
            "  VentralAttention:  20 ROIs\n",
            "  Visual         :  20 ROIs\n"
          ]
        }
      ],
      "source": [
        "def test_power_2011_roi_names():\n",
        "    \"\"\"Test ROI name extraction for Power 2011 atlas.\"\"\"\n",
        "    print(\"🔍 Testing Power 2011 Atlas ROI Names\")\n",
        "    print(\"=\" * 50)\n",
        "    \n",
        "    # Power 2011 labels file path\n",
        "    power_labels_path = 'roi/power264/power264NodeNames.txt'\n",
        "    \n",
        "    if not os.path.exists(power_labels_path):\n",
        "        print(f\"❌ Power 2011 labels file not found: {power_labels_path}\")\n",
        "        return None\n",
        "    \n",
        "    # Read the labels file\n",
        "    try:\n",
        "        with open(power_labels_path, 'r') as f:\n",
        "            network_labels_list = [line.strip() for line in f if line.strip()]\n",
        "        \n",
        "        print(f\"✅ Loaded {len(network_labels_list)} ROI labels from Power 2011\")\n",
        "        print(f\"📁 File: {power_labels_path}\")\n",
        "        \n",
        "        # Show first 10 labels\n",
        "        print(\"\\n📋 First 10 ROI labels:\")\n",
        "        for i, label in enumerate(network_labels_list[:10]):\n",
        "            print(f\"  {i+1:3d}: {label}\")\n",
        "        \n",
        "        # Show last 10 labels\n",
        "        print(\"\\n📋 Last 10 ROI labels:\")\n",
        "        for i, label in enumerate(network_labels_list[-10:], len(network_labels_list)-9):\n",
        "            print(f\"  {i:3d}: {label}\")\n",
        "        \n",
        "        # Analyze network distribution\n",
        "        network_counts = {}\n",
        "        for label in network_labels_list:\n",
        "            if '_' in label:\n",
        "                network = label.rsplit('_', 1)[0]\n",
        "                network_counts[network] = network_counts.get(network, 0) + 1\n",
        "        \n",
        "        print(\"\\n📊 Network distribution:\")\n",
        "        for network, count in sorted(network_counts.items()):\n",
        "            print(f\"  {network:15s}: {count:3d} ROIs\")\n",
        "        \n",
        "        return network_labels_list\n",
        "        \n",
        "    except Exception as e:\n",
        "        print(f\"❌ Error reading Power 2011 labels: {e}\")\n",
        "        return None\n",
        "# Test Power 2011\n",
        "power_labels = test_power_2011_roi_names()\n"
      ]
    },
    {
      "cell_type": "markdown",
      "metadata": {},
      "source": [
        "## 2. Test Schaefer 2018 Atlas ROI Names\n",
        "\n",
        "Schaefer 2018 atlas uses Nilearn's built-in atlas with generated labels.\n"
      ]
    },
    {
      "cell_type": "code",
      "execution_count": 5,
      "metadata": {},
      "outputs": [
        {
          "name": "stdout",
          "output_type": "stream",
          "text": [
            "🔍 Testing Schaefer 2018 Atlas ROI Names\n",
            "==================================================\n"
          ]
        },
        {
          "data": {
            "text/html": [
              "<pre style=\"white-space:pre;overflow-x:auto;line-height:normal;font-family:Menlo,'DejaVu Sans Mono',consolas,'Courier New',monospace\"><span style=\"color: #000080; text-decoration-color: #000080; font-weight: bold\">[</span><span style=\"color: #000080; text-decoration-color: #000080\">fetch_atlas_schaefer_2018</span><span style=\"color: #000080; text-decoration-color: #000080; font-weight: bold\">]</span> Dataset found in <span style=\"color: #800080; text-decoration-color: #800080\">/Users/xiaoqianxiao/nilearn_data/</span><span style=\"color: #ff00ff; text-decoration-color: #ff00ff\">schaefer_2018</span>\n",
              "</pre>\n"
            ],
            "text/plain": [
              "\u001b[1;34m[\u001b[0m\u001b[34mfetch_atlas_schaefer_2018\u001b[0m\u001b[1;34m]\u001b[0m Dataset found in \u001b[35m/Users/xiaoqianxiao/nilearn_data/\u001b[0m\u001b[95mschaefer_2018\u001b[0m\n"
            ]
          },
          "metadata": {},
          "output_type": "display_data"
        },
        {
          "name": "stdout",
          "output_type": "stream",
          "text": [
            "✅ Fetched Schaefer 2018 atlas\n",
            "📊 Atlas data keys: ['maps', 'labels', 'description', 'lut', 'atlas_type', 'template']\n",
            "✅ Found 101 labels in atlas data\n",
            "\n",
            "📋 First 10 ROI labels:\n",
            "    1: Background\n",
            "    2: 7Networks_LH_Vis_1\n",
            "    3: 7Networks_LH_Vis_2\n",
            "    4: 7Networks_LH_Vis_3\n",
            "    5: 7Networks_LH_Vis_4\n",
            "    6: 7Networks_LH_Vis_5\n",
            "    7: 7Networks_LH_Vis_6\n",
            "    8: 7Networks_LH_Vis_7\n",
            "    9: 7Networks_LH_Vis_8\n",
            "   10: 7Networks_LH_Vis_9\n",
            "\n",
            "📋 Last 10 ROI labels:\n",
            "   92: 7Networks_RH_Default_Temp_1\n",
            "   93: 7Networks_RH_Default_Temp_2\n",
            "   94: 7Networks_RH_Default_Temp_3\n",
            "   95: 7Networks_RH_Default_PFCv_1\n",
            "   96: 7Networks_RH_Default_PFCv_2\n",
            "   97: 7Networks_RH_Default_PFCdPFCm_1\n",
            "   98: 7Networks_RH_Default_PFCdPFCm_2\n",
            "   99: 7Networks_RH_Default_PFCdPFCm_3\n",
            "  100: 7Networks_RH_Default_pCunPCC_1\n",
            "  101: 7Networks_RH_Default_pCunPCC_2\n"
          ]
        }
      ],
      "source": [
        "def test_schaefer_2018_roi_names():\n",
        "    \"\"\"Test ROI name extraction for Schaefer 2018 atlas.\"\"\"\n",
        "    print(\"🔍 Testing Schaefer 2018 Atlas ROI Names\")\n",
        "    print(\"=\" * 50)\n",
        "    \n",
        "    try:\n",
        "        # Import Nilearn\n",
        "        from nilearn import datasets\n",
        "        from nilearn.datasets import fetch_atlas_schaefer_2018\n",
        "        \n",
        "        # Fetch Schaefer 2018 atlas with default parameters\n",
        "        atlas_data = fetch_atlas_schaefer_2018(\n",
        "            n_rois=100,\n",
        "            yeo_networks=7,\n",
        "            resolution_mm=2\n",
        "        )\n",
        "        \n",
        "        print(f\"✅ Fetched Schaefer 2018 atlas\")\n",
        "        print(f\"📊 Atlas data keys: {list(atlas_data.keys())}\")\n",
        "        \n",
        "        # Check if labels are available\n",
        "        if 'labels' in atlas_data:\n",
        "            labels = atlas_data['labels']\n",
        "            print(f\"✅ Found {len(labels)} labels in atlas data\")\n",
        "            \n",
        "            # Show first 10 labels\n",
        "            print(\"\\n📋 First 10 ROI labels:\")\n",
        "            for i, label in enumerate(labels[:10]):\n",
        "                print(f\"  {i+1:3d}: {label}\")\n",
        "            \n",
        "            # Show last 10 labels\n",
        "            print(\"\\n📋 Last 10 ROI labels:\")\n",
        "            for i, label in enumerate(labels[-10:], len(labels)-9):\n",
        "                print(f\"  {i:3d}: {label}\")\n",
        "            \n",
        "            return labels\n",
        "        else:\n",
        "            print(\"❌ No labels found in Schaefer 2018 atlas data\")\n",
        "            print(f\"Available keys: {list(atlas_data.keys())}\")\n",
        "            return None\n",
        "            \n",
        "    except ImportError as e:\n",
        "        print(f\"❌ Nilearn not available: {e}\")\n",
        "        return None\n",
        "    except Exception as e:\n",
        "        print(f\"❌ Error fetching Schaefer 2018 atlas: {e}\")\n",
        "        return None\n",
        "\n",
        "# Test Schaefer 2018\n",
        "schaefer_labels = test_schaefer_2018_roi_names()"
      ]
    },
    {
      "cell_type": "markdown",
      "metadata": {},
      "source": [
        "## 3. Test Harvard-Oxford Atlas ROI Names\n",
        "\n",
        "Harvard-Oxford atlas uses Nilearn's built-in atlas with anatomical labels.\n"
      ]
    },
    {
      "cell_type": "code",
      "execution_count": 6,
      "metadata": {},
      "outputs": [
        {
          "name": "stdout",
          "output_type": "stream",
          "text": [
            "🔍 Testing Harvard-Oxford Atlas ROI Names\n",
            "==================================================\n"
          ]
        },
        {
          "data": {
            "text/html": [
              "<pre style=\"white-space:pre;overflow-x:auto;line-height:normal;font-family:Menlo,'DejaVu Sans Mono',consolas,'Courier New',monospace\"><span style=\"color: #000080; text-decoration-color: #000080; font-weight: bold\">[</span><span style=\"color: #000080; text-decoration-color: #000080\">fetch_atlas_harvard_oxford</span><span style=\"color: #000080; text-decoration-color: #000080; font-weight: bold\">]</span> Dataset found in <span style=\"color: #800080; text-decoration-color: #800080\">/Users/xiaoqianxiao/nilearn_data/</span><span style=\"color: #ff00ff; text-decoration-color: #ff00ff\">fsl</span>\n",
              "</pre>\n"
            ],
            "text/plain": [
              "\u001b[1;34m[\u001b[0m\u001b[34mfetch_atlas_harvard_oxford\u001b[0m\u001b[1;34m]\u001b[0m Dataset found in \u001b[35m/Users/xiaoqianxiao/nilearn_data/\u001b[0m\u001b[95mfsl\u001b[0m\n"
            ]
          },
          "metadata": {},
          "output_type": "display_data"
        },
        {
          "name": "stdout",
          "output_type": "stream",
          "text": [
            "✅ Fetched Harvard-Oxford atlas\n",
            "📊 Atlas data keys: ['maps', 'labels', 'description', 'lut', 'atlas_type', 'template', 'filename']\n",
            "✅ Found 49 labels in atlas data\n",
            "\n",
            "📋 First 10 ROI labels:\n",
            "    1: Background\n",
            "    2: Frontal Pole\n",
            "    3: Insular Cortex\n",
            "    4: Superior Frontal Gyrus\n",
            "    5: Middle Frontal Gyrus\n",
            "    6: Inferior Frontal Gyrus, pars triangularis\n",
            "    7: Inferior Frontal Gyrus, pars opercularis\n",
            "    8: Precentral Gyrus\n",
            "    9: Temporal Pole\n",
            "   10: Superior Temporal Gyrus, anterior division\n",
            "\n",
            "📋 Last 10 ROI labels:\n",
            "   40: Temporal Occipital Fusiform Cortex\n",
            "   41: Occipital Fusiform Gyrus\n",
            "   42: Frontal Opercular Cortex\n",
            "   43: Central Opercular Cortex\n",
            "   44: Parietal Opercular Cortex\n",
            "   45: Planum Polare\n",
            "   46: Heschl's Gyrus (includes H1 and H2)\n",
            "   47: Planum Temporale\n",
            "   48: Supracalcarine Cortex\n",
            "   49: Occipital Pole\n",
            "\n",
            "📊 Anatomical area distribution:\n",
            "  Angular             :   1 ROIs\n",
            "  Central             :   1 ROIs\n",
            "  Cingulate           :   2 ROIs\n",
            "  Cuneal              :   1 ROIs\n",
            "  Frontal             :   4 ROIs\n",
            "  Heschl's            :   1 ROIs\n",
            "  Inferior            :   5 ROIs\n",
            "  Insular             :   1 ROIs\n",
            "  Intracalcarine      :   1 ROIs\n",
            "  Juxtapositional     :   1 ROIs\n",
            "  Lateral             :   2 ROIs\n",
            "  Lingual             :   1 ROIs\n",
            "  Middle              :   4 ROIs\n",
            "  Occipital           :   2 ROIs\n",
            "  Paracingulate       :   1 ROIs\n",
            "  Parahippocampal     :   2 ROIs\n",
            "  Parietal            :   1 ROIs\n",
            "  Planum              :   2 ROIs\n",
            "  Postcentral         :   1 ROIs\n",
            "  Precentral          :   1 ROIs\n",
            "  Precuneous          :   1 ROIs\n",
            "  Subcallosal         :   1 ROIs\n",
            "  Superior            :   4 ROIs\n",
            "  Supracalcarine      :   1 ROIs\n",
            "  Supramarginal       :   2 ROIs\n",
            "  Temporal            :   4 ROIs\n"
          ]
        }
      ],
      "source": [
        "def test_harvard_oxford_roi_names():\n",
        "    \"\"\"Test ROI name extraction for Harvard-Oxford atlas.\"\"\"\n",
        "    print(\"🔍 Testing Harvard-Oxford Atlas ROI Names\")\n",
        "    print(\"=\" * 50)\n",
        "    \n",
        "    try:\n",
        "        # Import Nilearn\n",
        "        from nilearn import datasets\n",
        "        from nilearn.datasets import fetch_atlas_harvard_oxford\n",
        "        \n",
        "        # Fetch Harvard-Oxford atlas with default parameters\n",
        "        atlas_data = fetch_atlas_harvard_oxford(\n",
        "            atlas_name='cort-maxprob-thr25-2mm',\n",
        "            symmetric_split=False\n",
        "        )\n",
        "        \n",
        "        print(f\"✅ Fetched Harvard-Oxford atlas\")\n",
        "        print(f\"📊 Atlas data keys: {list(atlas_data.keys())}\")\n",
        "        \n",
        "        # Check if labels are available\n",
        "        if 'labels' in atlas_data:\n",
        "            labels = atlas_data['labels']\n",
        "            print(f\"✅ Found {len(labels)} labels in atlas data\")\n",
        "            \n",
        "            # Show first 10 labels\n",
        "            print(\"\\n📋 First 10 ROI labels:\")\n",
        "            for i, label in enumerate(labels[:10]):\n",
        "                print(f\"  {i+1:3d}: {label}\")\n",
        "            \n",
        "            # Show last 10 labels\n",
        "            print(\"\\n📋 Last 10 ROI labels:\")\n",
        "            for i, label in enumerate(labels[-10:], len(labels)-9):\n",
        "                print(f\"  {i:3d}: {label}\")\n",
        "            \n",
        "            # Analyze anatomical distribution\n",
        "            anatomical_areas = {}\n",
        "            for label in labels:\n",
        "                if label != 'Background':\n",
        "                    # Extract anatomical area (first part before any numbers or special chars)\n",
        "                    area = label.split(' ')[0] if ' ' in label else label\n",
        "                    anatomical_areas[area] = anatomical_areas.get(area, 0) + 1\n",
        "            \n",
        "            print(\"\\n📊 Anatomical area distribution:\")\n",
        "            for area, count in sorted(anatomical_areas.items()):\n",
        "                print(f\"  {area:20s}: {count:3d} ROIs\")\n",
        "            \n",
        "            return labels\n",
        "        else:\n",
        "            print(\"❌ No labels found in Harvard-Oxford atlas data\")\n",
        "            print(f\"Available keys: {list(atlas_data.keys())}\")\n",
        "            return None\n",
        "            \n",
        "    except ImportError as e:\n",
        "        print(f\"❌ Nilearn not available: {e}\")\n",
        "        return None\n",
        "    except Exception as e:\n",
        "        print(f\"❌ Error fetching Harvard-Oxford atlas: {e}\")\n",
        "        return None\n",
        "\n",
        "# Test Harvard-Oxford\n",
        "harvard_oxford_labels = test_harvard_oxford_roi_names()\n"
      ]
    },
    {
      "cell_type": "markdown",
      "metadata": {},
      "source": []
    },
    {
      "cell_type": "markdown",
      "metadata": {},
      "source": []
    }
  ],
  "metadata": {
    "kernelspec": {
      "display_name": "base",
      "language": "python",
      "name": "python3"
    },
    "language_info": {
      "codemirror_mode": {
        "name": "ipython",
        "version": 3
      },
      "file_extension": ".py",
      "mimetype": "text/x-python",
      "name": "python",
      "nbconvert_exporter": "python",
      "pygments_lexer": "ipython3",
      "version": "3.11.9"
    }
  },
  "nbformat": 4,
  "nbformat_minor": 2
}
